{
 "cells": [
  {
   "cell_type": "markdown",
   "metadata": {},
   "source": [
    "# 作業\n",
    "\n",
    "思考一下我們前面有提到圖片是矩陣，但維度可能會不一樣\n",
    "例如灰階圖只有兩個維度，RGB 彩圖則有 3 個維度\n",
    "\n",
    "假如今天我們把 RGB 3 個維度拆開來看會有甚麼不同的效果呢？"
   ]
  },
  {
   "cell_type": "code",
   "execution_count": 39,
   "metadata": {},
   "outputs": [
    {
     "name": "stdout",
     "output_type": "stream",
     "text": [
      "[[ 30  30  33 ...  26  35  56]\n",
      " [ 30  30  33 ...  26  35  56]\n",
      " [ 30  30  33 ...  26  35  56]\n",
      " ...\n",
      " [172 172 164 ...  83  84  79]\n",
      " [174 174 160 ...  77  75  71]\n",
      " [174 174 160 ...  77  75  71]]\n",
      "[[119 119 119 ... 108 126 157]\n",
      " [119 119 119 ... 108 126 157]\n",
      " [119 119 119 ... 108 126 157]\n",
      " ...\n",
      " [238 238 229 ... 183 188 194]\n",
      " [234 234 224 ... 186 185 182]\n",
      " [234 234 224 ... 186 185 182]]\n",
      "[[131 131 123 ... 134 146 166]\n",
      " [131 131 123 ... 134 146 166]\n",
      " [131 131 123 ... 134 146 166]\n",
      " ...\n",
      " [196 196 198 ... 172 180 177]\n",
      " [199 199 194 ... 177 175 175]\n",
      " [199 199 194 ... 177 175 175]]\n"
     ]
    }
   ],
   "source": [
    "import cv2\n",
    "import numpy as np\n",
    "\n",
    "img_path = 'lena.png'\n",
    "\n",
    "# 以彩色圖片的方式載入\n",
    "img = cv2.imread(img_path, cv2.IMREAD_COLOR)\n",
    "img_BGR=cv2.imread(img_path)\n",
    "\n",
    "\n",
    "\n",
    "B,G,R=cv2.split(img_BGR)\n",
    "img_BGR=cv2.merge((B,G,R))\n",
    "\n",
    "R=img_BGR[:,:,0]=R*255\n",
    "G=img_BGR[:,:,1]=G*255\n",
    "B=img_BGR[:,:,2]=B*255\n",
    "\n",
    "\n",
    "print(R)\n",
    "print(G)\n",
    "print(B)\n",
    "# img_red.setcolor(0,0,255)\n",
    "# 以灰階圖片的方式載入\n",
    "img_gray = cv2.imread(img_path, cv2.IMREAD_GRAYSCALE)\n",
    "\n",
    "# 為了要不斷顯示圖片，所以使用一個迴圈\n",
    "while True:\n",
    "    # 顯示彩圖\n",
    "    cv2.imshow('bgr', img)\n",
    "    # 顯示灰圖\n",
    "    cv2.imshow('gray', img_gray)\n",
    "    \n",
    "    cv2.imshow('blue',B)\n",
    "    \n",
    "    cv2.imshow('red',R)\n",
    "    \n",
    "    cv2.imshow('green',G)\n",
    "\n",
    "    # 直到按下 ESC 鍵才會自動關閉視窗結束程式\n",
    "    k = cv2.waitKey(0)\n",
    "    if k == 27:\n",
    "        cv2.destroyAllWindows()\n",
    "        break"
   ]
  },
  {
   "cell_type": "code",
   "execution_count": null,
   "metadata": {},
   "outputs": [],
   "source": []
  }
 ],
 "metadata": {
  "kernelspec": {
   "display_name": "Python 3",
   "language": "python",
   "name": "python3"
  },
  "language_info": {
   "codemirror_mode": {
    "name": "ipython",
    "version": 3
   },
   "file_extension": ".py",
   "mimetype": "text/x-python",
   "name": "python",
   "nbconvert_exporter": "python",
   "pygments_lexer": "ipython3",
   "version": "3.8.0"
  }
 },
 "nbformat": 4,
 "nbformat_minor": 2
}
